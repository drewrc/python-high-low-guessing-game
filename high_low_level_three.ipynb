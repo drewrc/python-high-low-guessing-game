{
 "cells": [
  {
   "cell_type": "code",
   "execution_count": 3,
   "id": "3b0850d0",
   "metadata": {},
   "outputs": [
    {
     "name": "stdout",
     "output_type": "stream",
     "text": [
      "Enter your number 1-10:4\n",
      "Too high\n",
      "5\n",
      "Too low\n",
      "2\n",
      "Too low\n",
      "3\n",
      "computer guesses number 4 and computer guesses 4 times\n"
     ]
    }
   ],
   "source": [
    "import random\n",
    "\n",
    "def high_low_level_three():\n",
    "    playerinput = int(input(\"Enter your number 1-10:\"))\n",
    "\n",
    "    low = 1\n",
    "    high = 10 \n",
    "    computer = 5\n",
    "    guesses = 0\n",
    "\n",
    "    while computer != playerinput:\n",
    "        guesses += 1\n",
    "        computer = (low + high)//2\n",
    "        if computer > playerinput:\n",
    "            high = computer - 1\n",
    "            print(\"Too high\")\n",
    "            print(computer)\n",
    "        if computer < playerinput:\n",
    "            low = computer + 1\n",
    "            print(\"Too low\")\n",
    "            print(computer)\n",
    "        elif computer == playerinput:\n",
    "            print(\"computer guesses number\", computer, \"and computer guesses\", guesses, \"times\")\n",
    "            break\n",
    "            \n",
    "if __name__ == '__main__':\n",
    "    high_low_level_three()"
   ]
  },
  {
   "cell_type": "code",
   "execution_count": null,
   "id": "9fec305d",
   "metadata": {},
   "outputs": [],
   "source": []
  },
  {
   "cell_type": "code",
   "execution_count": null,
   "id": "c9136f0e",
   "metadata": {},
   "outputs": [],
   "source": []
  }
 ],
 "metadata": {
  "kernelspec": {
   "display_name": "Python 3 (ipykernel)",
   "language": "python",
   "name": "python3"
  },
  "language_info": {
   "codemirror_mode": {
    "name": "ipython",
    "version": 3
   },
   "file_extension": ".py",
   "mimetype": "text/x-python",
   "name": "python",
   "nbconvert_exporter": "python",
   "pygments_lexer": "ipython3",
   "version": "3.8.9"
  }
 },
 "nbformat": 4,
 "nbformat_minor": 5
}
