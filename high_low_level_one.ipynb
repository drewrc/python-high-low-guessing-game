{
 "cells": [
  {
   "cell_type": "code",
   "execution_count": null,
   "id": "2f88d71c",
   "metadata": {},
   "outputs": [],
   "source": [
    "import random\n",
    "\n",
    "def play():\n",
    "    #computer chooses random number between 1-10\n",
    "    computer = random.randint(1,10)\n",
    "    guesses = 0\n",
    "    #run loop while guesses < 3\n",
    "    while guesses < 3:\n",
    "    #convert string to int\n",
    "        guesses += 1\n",
    "        guess = int(input(\"Enter your guess:\"))\n",
    "        if guess == computer: \n",
    "            print(\"You win\")\n",
    "            print(\"attempt\", guesses)\n",
    "        elif guess < computer:\n",
    "            print('Your guess was too low.')\n",
    "        else:\n",
    "            print(\"Your guess was too high\")\n",
    "        \n",
    "        if guesses == 3:\n",
    "            print('Sorry, you ran out of guesses.')\n",
    "            \n",
    "if __name__ == '__main__':\n",
    "    play()"
   ]
  },
  {
   "cell_type": "code",
   "execution_count": null,
   "id": "ebd5ed5f",
   "metadata": {},
   "outputs": [],
   "source": []
  },
  {
   "cell_type": "code",
   "execution_count": null,
   "id": "3146a3c5",
   "metadata": {},
   "outputs": [],
   "source": []
  },
  {
   "cell_type": "code",
   "execution_count": null,
   "id": "1d4aa271",
   "metadata": {},
   "outputs": [],
   "source": []
  },
  {
   "cell_type": "code",
   "execution_count": null,
   "id": "ede9e3c3",
   "metadata": {},
   "outputs": [],
   "source": []
  }
 ],
 "metadata": {
  "kernelspec": {
   "display_name": "Python 3 (ipykernel)",
   "language": "python",
   "name": "python3"
  },
  "language_info": {
   "codemirror_mode": {
    "name": "ipython",
    "version": 3
   },
   "file_extension": ".py",
   "mimetype": "text/x-python",
   "name": "python",
   "nbconvert_exporter": "python",
   "pygments_lexer": "ipython3",
   "version": "3.8.9"
  }
 },
 "nbformat": 4,
 "nbformat_minor": 5
}
