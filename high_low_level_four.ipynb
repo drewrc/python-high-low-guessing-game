{
 "cells": [
  {
   "cell_type": "code",
   "execution_count": 4,
   "id": "c894d2d3",
   "metadata": {},
   "outputs": [
    {
     "ename": "ModuleNotFoundError",
     "evalue": "No module named 'high_low_level_three'",
     "output_type": "error",
     "traceback": [
      "\u001b[0;31m---------------------------------------------------------------------------\u001b[0m",
      "\u001b[0;31mModuleNotFoundError\u001b[0m                       Traceback (most recent call last)",
      "Cell \u001b[0;32mIn[4], line 1\u001b[0m\n\u001b[0;32m----> 1\u001b[0m \u001b[38;5;28;01mfrom\u001b[39;00m \u001b[38;5;21;01mhigh_low_level_three\u001b[39;00m \u001b[38;5;28;01mimport\u001b[39;00m high_low_level_three\n\u001b[1;32m      2\u001b[0m \u001b[38;5;28;01mfrom\u001b[39;00m \u001b[38;5;21;01mhigh_low_level_one\u001b[39;00m \u001b[38;5;28;01mimport\u001b[39;00m play\n\u001b[1;32m      3\u001b[0m \u001b[38;5;28mprint\u001b[39m(\u001b[38;5;124m\"\u001b[39m\u001b[38;5;124mWould you like computer to guess? y/n?\u001b[39m\u001b[38;5;124m\"\u001b[39m)\n",
      "\u001b[0;31mModuleNotFoundError\u001b[0m: No module named 'high_low_level_three'"
     ]
    }
   ],
   "source": [
    "from high_low_level_three import high_low_level_three\n",
    "from high_low_level_one import play\n",
    "print(\"Would you like computer to guess? y/n?\")\n",
    "\n",
    "input = input(\"\")\n",
    "\n",
    "if input == \"y\":\n",
    "    print(\"computer guesses\")\n",
    "    high_low_level_three()\n",
    "if input == \"n\":\n",
    "    print(\"player guesses\")\n",
    "    play()"
   ]
  },
  {
   "cell_type": "code",
   "execution_count": null,
   "id": "53e57663",
   "metadata": {},
   "outputs": [],
   "source": []
  }
 ],
 "metadata": {
  "kernelspec": {
   "display_name": "Python 3 (ipykernel)",
   "language": "python",
   "name": "python3"
  },
  "language_info": {
   "codemirror_mode": {
    "name": "ipython",
    "version": 3
   },
   "file_extension": ".py",
   "mimetype": "text/x-python",
   "name": "python",
   "nbconvert_exporter": "python",
   "pygments_lexer": "ipython3",
   "version": "3.8.9"
  }
 },
 "nbformat": 4,
 "nbformat_minor": 5
}
