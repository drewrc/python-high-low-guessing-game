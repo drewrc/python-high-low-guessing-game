{
 "cells": [
  {
   "cell_type": "code",
   "execution_count": 1,
   "id": "e1628b20",
   "metadata": {},
   "outputs": [
    {
     "name": "stdout",
     "output_type": "stream",
     "text": [
      "Enter your number 1-10:4\n",
      "The computer guessed 9\n",
      "Computer guessed wrong!\n",
      "The computer guessed 5\n",
      "Computer guessed wrong!\n",
      "The computer guessed 9\n",
      "Computer guessed wrong!\n",
      "You win! The computer did not guess your number.\n"
     ]
    }
   ],
   "source": [
    "import random\n",
    "\n",
    "guess = int(input(\"Enter your number 1-10:\"))\n",
    "guesses = 0\n",
    "\n",
    "while guesses < 3:\n",
    "    computer = random.randint(1,10)\n",
    "    guesses += 1\n",
    "    if computer != guess: \n",
    "        print('The computer guessed', computer)\n",
    "        print(\"Computer guessed wrong!\")\n",
    "    else:\n",
    "        print(\"Computer wins! Computer guessed\", guess)\n",
    "        break\n",
    "    if guesses == 3:\n",
    "        print(\"You win! The computer did not guess your number.\")\n",
    "    "
   ]
  },
  {
   "cell_type": "code",
   "execution_count": null,
   "id": "99646906",
   "metadata": {},
   "outputs": [],
   "source": []
  }
 ],
 "metadata": {
  "kernelspec": {
   "display_name": "Python 3 (ipykernel)",
   "language": "python",
   "name": "python3"
  },
  "language_info": {
   "codemirror_mode": {
    "name": "ipython",
    "version": 3
   },
   "file_extension": ".py",
   "mimetype": "text/x-python",
   "name": "python",
   "nbconvert_exporter": "python",
   "pygments_lexer": "ipython3",
   "version": "3.8.9"
  }
 },
 "nbformat": 4,
 "nbformat_minor": 5
}
